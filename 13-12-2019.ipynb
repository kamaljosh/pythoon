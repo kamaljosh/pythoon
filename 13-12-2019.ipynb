{
 "cells": [
  {
   "cell_type": "markdown",
   "metadata": {},
   "source": [
    "# markdown\n",
    "## markdown\n",
    "### markdown\n",
    "#### markdown\n",
    "##### markdown\n"
   ]
  },
  {
   "cell_type": "markdown",
   "metadata": {},
   "source": [
    "# insert site address\n",
    "[site](http://localhost:8888/notebooks/Desktop/kiran%20python/Untitled.ipynb?kernel_name=python3)"
   ]
  },
  {
   "cell_type": "markdown",
   "metadata": {},
   "source": [
    "# insert image\n",
    "![text](https://www.hakaimagazine.com/wp-content/uploads/header-baltic-sea-radiation.jpg)"
   ]
  },
  {
   "cell_type": "markdown",
   "metadata": {},
   "source": [
    "# PYTHON BASICS\n"
   ]
  },
  {
   "cell_type": "markdown",
   "metadata": {},
   "source": [
    "# creating ordered list\n",
    "    1 agent\n",
    "    2 sai\n",
    "   - srinivasa\n",
    "      - athreya"
   ]
  },
  {
   "cell_type": "markdown",
   "metadata": {},
   "source": [
    "# creating unordered list\n",
    "- sky is blue\n",
    "- i am a student\n"
   ]
  },
  {
   "cell_type": "markdown",
   "metadata": {},
   "source": [
    "# bold and italic text\n",
    "   **triple**\n",
    "*single*"
   ]
  },
  {
   "cell_type": "code",
   "execution_count": 1,
   "metadata": {},
   "outputs": [
    {
     "name": "stdout",
     "output_type": "stream",
     "text": [
      "Hello World!\n"
     ]
    }
   ],
   "source": [
    "print(\"Hello World!\")\n"
   ]
  },
  {
   "cell_type": "code",
   "execution_count": 2,
   "metadata": {},
   "outputs": [
    {
     "data": {
      "text/plain": [
       "20"
      ]
     },
     "execution_count": 2,
     "metadata": {},
     "output_type": "execute_result"
    }
   ],
   "source": [
    "x = 20\n",
    "y = 40\n",
    "y-x"
   ]
  },
  {
   "cell_type": "markdown",
   "metadata": {},
   "source": [
    "# rules for variable\n",
    "- name should begin with a character\n",
    "- no special characters allowed except underscore(_)"
   ]
  },
  {
   "cell_type": "code",
   "execution_count": 5,
   "metadata": {},
   "outputs": [
    {
     "name": "stdout",
     "output_type": "stream",
     "text": [
      "my name is: kiran age is: 20\n"
     ]
    }
   ],
   "source": [
    "name =\"kiran\"\n",
    "age = 20\n",
    "print(\"my name is:\",name,\"age is:\",age)"
   ]
  },
  {
   "cell_type": "code",
   "execution_count": 7,
   "metadata": {},
   "outputs": [
    {
     "name": "stdout",
     "output_type": "stream",
     "text": [
      "enter name:kiran\n",
      "enter age:20\n",
      "my name is: kiran age is: 20\n"
     ]
    }
   ],
   "source": [
    "name = input(\"enter name:\")\n",
    "age = int(input(\"enter age:\"))\n",
    "print(\"my name is:\",name,\"age is:\",age)"
   ]
  },
  {
   "cell_type": "code",
   "execution_count": 11,
   "metadata": {},
   "outputs": [
    {
     "name": "stdout",
     "output_type": "stream",
     "text": [
      "enter x value:143276\n",
      "enter y value:154232\n",
      "x+y is: 297508\n",
      "x-y is: -10956\n",
      "x*y is: 22097744032\n",
      "x/y is: 0.9289641578920068\n",
      "x%y is: 143276\n"
     ]
    }
   ],
   "source": [
    "x = int(input(\"enter x value:\"))\n",
    "y = int(input(\"enter y value:\"))\n",
    "print(\"x+y is:\",x+y)\n",
    "print(\"x-y is:\",x-y)\n",
    "print(\"x*y is:\",x*y)\n",
    "print(\"x/y is:\",x/y)\n",
    "print(\"x%y is:\",x%y)"
   ]
  },
  {
   "cell_type": "markdown",
   "metadata": {},
   "source": [
    "# fundamental datatypes\n",
    "- int\n",
    "- float\n",
    "- complex\n",
    "- boolean\n",
    "- string"
   ]
  },
  {
   "cell_type": "code",
   "execution_count": 22,
   "metadata": {},
   "outputs": [
    {
     "name": "stdout",
     "output_type": "stream",
     "text": [
      "<class 'int'>\n",
      "<class 'float'>\n",
      "<class 'complex'>\n"
     ]
    }
   ],
   "source": [
    "# int\n",
    "# float\n",
    "x = 10\n",
    "y = 12.22\n",
    "z = 5+6j\n",
    "print(type(x))\n",
    "print(type(y))\n",
    "print(type(z))"
   ]
  },
  {
   "cell_type": "code",
   "execution_count": 20,
   "metadata": {},
   "outputs": [
    {
     "name": "stdout",
     "output_type": "stream",
     "text": [
      "(2+5j)\n"
     ]
    }
   ],
   "source": [
    "# complex\n",
    "c = complex(2,5)\n",
    "print(c)"
   ]
  },
  {
   "cell_type": "code",
   "execution_count": 15,
   "metadata": {},
   "outputs": [
    {
     "name": "stdout",
     "output_type": "stream",
     "text": [
      "(8+7j)\n",
      "(-2+3j)\n",
      "(5+31j)\n"
     ]
    }
   ],
   "source": [
    "c1 = 3+5j\n",
    "c2 = 5+2j\n",
    "print(c1+c2)\n",
    "print(c1-c2)\n",
    "print(c1*c2)"
   ]
  },
  {
   "cell_type": "code",
   "execution_count": 18,
   "metadata": {},
   "outputs": [
    {
     "data": {
      "text/plain": [
       "True"
      ]
     },
     "execution_count": 18,
     "metadata": {},
     "output_type": "execute_result"
    }
   ],
   "source": [
    "# boolean\n",
    "x = -23456789\n",
    "y = -12345678\n",
    "x < y"
   ]
  },
  {
   "cell_type": "code",
   "execution_count": 19,
   "metadata": {},
   "outputs": [
    {
     "name": "stdout",
     "output_type": "stream",
     "text": [
      "<class 'str'> <class 'str'>\n"
     ]
    }
   ],
   "source": [
    "# string\n",
    "s1 = \"abc\"\n",
    "s2 = \"def\"\n",
    "print(type(s1),type(s2))"
   ]
  },
  {
   "cell_type": "code",
   "execution_count": 23,
   "metadata": {},
   "outputs": [
    {
     "name": "stdout",
     "output_type": "stream",
     "text": [
      "<class 'int'> <class 'str'> <class 'float'>\n"
     ]
    }
   ],
   "source": [
    "i = 100\n",
    "s1 = str(i)\n",
    "f1 = float(i)\n",
    "print(type(i),type(s1),type(f1))"
   ]
  },
  {
   "cell_type": "code",
   "execution_count": 25,
   "metadata": {},
   "outputs": [
    {
     "name": "stdout",
     "output_type": "stream",
     "text": [
      "3\n"
     ]
    }
   ],
   "source": [
    "# length\n",
    "a = \"abc\"\n",
    "print(len(a))"
   ]
  },
  {
   "cell_type": "code",
   "execution_count": 26,
   "metadata": {},
   "outputs": [
    {
     "name": "stdout",
     "output_type": "stream",
     "text": [
      "4\n"
     ]
    }
   ],
   "source": [
    "a = 1234\n",
    "print(len(str(a)))"
   ]
  },
  {
   "cell_type": "code",
   "execution_count": 28,
   "metadata": {},
   "outputs": [
    {
     "name": "stdout",
     "output_type": "stream",
     "text": [
      "5\n"
     ]
    }
   ],
   "source": [
    "a=123423456778\n",
    "b=2345234\n",
    "print(len(str(a))-len(str(b)))"
   ]
  },
  {
   "cell_type": "code",
   "execution_count": 30,
   "metadata": {},
   "outputs": [
    {
     "name": "stdout",
     "output_type": "stream",
     "text": [
      "100 (20, 20, 20) (123, 234, 456)\n"
     ]
    }
   ],
   "source": [
    "n1=100 #single variable Assignment\n",
    "a=b=c=20 # multiple variable assignment of same value\n",
    "a1,b1,c1=123,234,456\n",
    "print(n1,(a,b,c),(a1,b1,c1))"
   ]
  },
  {
   "cell_type": "markdown",
   "metadata": {},
   "source": [
    "# precedence of arithmetic operators\n",
    ". parenthesis\n",
    ". power\n",
    ". multiplication\n",
    ". addition"
   ]
  },
  {
   "cell_type": "code",
   "execution_count": 56,
   "metadata": {},
   "outputs": [
    {
     "name": "stdout",
     "output_type": "stream",
     "text": [
      "1.8888888888888888\n"
     ]
    }
   ],
   "source": [
    "x=1+2**3/(4+5)\n",
    "print(x)"
   ]
  },
  {
   "cell_type": "code",
   "execution_count": 57,
   "metadata": {},
   "outputs": [
    {
     "name": "stdout",
     "output_type": "stream",
     "text": [
      "1.4\n"
     ]
    }
   ],
   "source": [
    "x=1+2**3/(4*5)\n",
    "print(x)"
   ]
  },
  {
   "cell_type": "markdown",
   "metadata": {},
   "source": [
    "# operators\n",
    "## Arithmetic Operators\n",
    "- +\n",
    "- -\n",
    "- *\n",
    "- /\n",
    "- %\n",
    "- **\n",
    "- //"
   ]
  },
  {
   "cell_type": "code",
   "execution_count": 55,
   "metadata": {},
   "outputs": [
    {
     "name": "stdout",
     "output_type": "stream",
     "text": [
      "0 5 -1 6 0.6666666666666666 2 8\n"
     ]
    }
   ],
   "source": [
    "x =2\n",
    "y =3\n",
    "print(x//y,x+y,x-y,x*y,x/y,x%y,x**y)"
   ]
  },
  {
   "cell_type": "markdown",
   "metadata": {},
   "source": [
    "# Relational Operators\n",
    "- ==\n",
    "- !=\n",
    "- [>]\n",
    "- [<]\n",
    "- [>=]\n",
    "- [<=]"
   ]
  },
  {
   "cell_type": "code",
   "execution_count": 54,
   "metadata": {},
   "outputs": [
    {
     "name": "stdout",
     "output_type": "stream",
     "text": [
      "False True True False True False\n"
     ]
    }
   ],
   "source": [
    "x=38\n",
    "y=15\n",
    "print(x==y,x!=y,x>y,x<y,x>=y,x<=y)"
   ]
  },
  {
   "cell_type": "markdown",
   "metadata": {},
   "source": [
    "# Logical Operators\n",
    "- AND\n",
    "- OR\n",
    "- NOT"
   ]
  },
  {
   "cell_type": "code",
   "execution_count": 51,
   "metadata": {},
   "outputs": [
    {
     "name": "stdout",
     "output_type": "stream",
     "text": [
      "True\n",
      "True\n",
      "False\n",
      "False\n"
     ]
    }
   ],
   "source": [
    "i=100\n",
    "a1=(i>15) and (i<23)\n",
    "a2=(i>987654321) or (i<1234321357586)\n",
    "a3=(i>987654321) or (i<1234321357586)\n",
    "print(a3)\n",
    "print(a2)\n",
    "print(a1)\n",
    "print(not i)"
   ]
  },
  {
   "cell_type": "markdown",
   "metadata": {},
   "source": [
    "# Membership Operator\n",
    "- IN\n",
    "- NOT IN"
   ]
  },
  {
   "cell_type": "code",
   "execution_count": 53,
   "metadata": {},
   "outputs": [
    {
     "name": "stdout",
     "output_type": "stream",
     "text": [
      "True\n",
      "False\n"
     ]
    }
   ],
   "source": [
    "s1=\"abc\"\n",
    "print('a' in s1)\n",
    "print('b' not in s1)"
   ]
  },
  {
   "cell_type": "markdown",
   "metadata": {},
   "source": [
    "# Control Flow Statements\n",
    "- conditional\n",
    "- looping\n",
    "-- if-else stateent\n",
    "    -syntax\n",
    "  ##### if condition:\n",
    "  > statements<br>\n",
    "  ##### else:\n",
    "  > statements\n",
    "  "
   ]
  },
  {
   "cell_type": "markdown",
   "metadata": {},
   "source": [
    "# check given number is even or not\n"
   ]
  },
  {
   "cell_type": "code",
   "execution_count": 62,
   "metadata": {},
   "outputs": [
    {
     "name": "stdout",
     "output_type": "stream",
     "text": [
      "enter a number: 45632\n",
      "even\n"
     ]
    }
   ],
   "source": [
    "a=int(input(\"enter a number: \"))\n",
    "if a%2==0:\n",
    " print(\"even\")\n",
    "else:\n",
    " print(\"odd\")"
   ]
  },
  {
   "cell_type": "markdown",
   "metadata": {},
   "source": [
    "# check whether given number is perfectly multiple of 3 and 5"
   ]
  },
  {
   "cell_type": "code",
   "execution_count": 66,
   "metadata": {},
   "outputs": [
    {
     "name": "stdout",
     "output_type": "stream",
     "text": [
      "enter a number: 17\n",
      "NO\n"
     ]
    }
   ],
   "source": [
    "a=int(input(\"enter a number: \"))\n",
    "if a%3==0 and a%5==0:\n",
    "    print(\"YES\")\n",
    "else:\n",
    "     print(\"NO\")"
   ]
  },
  {
   "cell_type": "markdown",
   "metadata": {},
   "source": [
    "# check whether the number is positive,negative or zero\n",
    "# check input year is leap or not"
   ]
  },
  {
   "cell_type": "code",
   "execution_count": 67,
   "metadata": {},
   "outputs": [
    {
     "name": "stdout",
     "output_type": "stream",
     "text": [
      "enter a number-4\n",
      "negative\n"
     ]
    }
   ],
   "source": [
    "a= int(input(\"enter a number\"))\n",
    "if a>0:\n",
    "   print(\"positive\")\n",
    "elif a<0:\n",
    " print(\"negative\")\n",
    "else: \n",
    " print(\"zero\")\n",
    "        "
   ]
  },
  {
   "cell_type": "code",
   "execution_count": 72,
   "metadata": {},
   "outputs": [
    {
     "name": "stdout",
     "output_type": "stream",
     "text": [
      "enter the year2000\n",
      "leap year\n"
     ]
    }
   ],
   "source": [
    "a=int(input(\"enter the year\"))\n",
    "if a%400==0:\n",
    "  print(\"leap year\")\n",
    "else:\n",
    " print(\"not  a leap year\")"
   ]
  },
  {
   "cell_type": "code",
   "execution_count": null,
   "metadata": {},
   "outputs": [],
   "source": []
  }
 ],
 "metadata": {
  "kernelspec": {
   "display_name": "Python 3",
   "language": "python",
   "name": "python3"
  },
  "language_info": {
   "codemirror_mode": {
    "name": "ipython",
    "version": 3
   },
   "file_extension": ".py",
   "mimetype": "text/x-python",
   "name": "python",
   "nbconvert_exporter": "python",
   "pygments_lexer": "ipython3",
   "version": "3.7.0"
  }
 },
 "nbformat": 4,
 "nbformat_minor": 2
}
