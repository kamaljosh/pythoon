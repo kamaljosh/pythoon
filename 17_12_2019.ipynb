{
  "nbformat": 4,
  "nbformat_minor": 0,
  "metadata": {
    "colab": {
      "name": "17-12-2019.ipynb",
      "provenance": []
    },
    "kernelspec": {
      "name": "python3",
      "display_name": "Python 3"
    }
  },
  "cells": [
    {
      "cell_type": "markdown",
      "metadata": {
        "id": "3mqQ46t64TLf",
        "colab_type": "text"
      },
      "source": [
        ""
      ]
    },
    {
      "cell_type": "code",
      "metadata": {
        "id": "g6Pfy73m4yGv",
        "colab_type": "code",
        "colab": {}
      },
      "source": [
        "# collection of datatypes"
      ],
      "execution_count": 0,
      "outputs": []
    },
    {
      "cell_type": "markdown",
      "metadata": {
        "id": "cM4gohxgBezS",
        "colab_type": "text"
      },
      "source": [
        "# collection of datatypes:\n",
        "\n",
        "\n",
        "*   list\n",
        "*   tuple\n",
        "*   set\n",
        "*   dictionary\n",
        "\n",
        "\n",
        "\n"
      ]
    },
    {
      "cell_type": "code",
      "metadata": {
        "id": "o1jKoksNB9ux",
        "colab_type": "code",
        "colab": {}
      },
      "source": [
        ""
      ],
      "execution_count": 0,
      "outputs": []
    },
    {
      "cell_type": "markdown",
      "metadata": {
        "id": "Au6szfozB_K5",
        "colab_type": "text"
      },
      "source": [
        "# list\n",
        "* one of the data structure is pyhton\n",
        "* data structres means to store,sort and search options\n",
        "* its one comon data structure in python,the item of list seperated by comma and enclosed by square brackets "
      ]
    },
    {
      "cell_type": "code",
      "metadata": {
        "id": "FmMkelo7C9YS",
        "colab_type": "code",
        "colab": {}
      },
      "source": [
        ""
      ],
      "execution_count": 0,
      "outputs": []
    },
    {
      "cell_type": "markdown",
      "metadata": {
        "id": "6iruqSorD5Co",
        "colab_type": "text"
      },
      "source": [
        "examples\n",
        "\n",
        "\n",
        "\n",
        "*   list1=[1,2,3,4]\n",
        "*   list2=[\"gitam\",1,2,3]\n",
        "\n"
      ]
    },
    {
      "cell_type": "code",
      "metadata": {
        "id": "Dk1NBPKXEW4i",
        "colab_type": "code",
        "colab": {}
      },
      "source": [
        ""
      ],
      "execution_count": 0,
      "outputs": []
    },
    {
      "cell_type": "code",
      "metadata": {
        "id": "E5oO_iAWEXVH",
        "colab_type": "code",
        "outputId": "2f06d07d-ea05-4222-d913-dd5263e9014a",
        "colab": {
          "base_uri": "https://localhost:8080/",
          "height": 119
        }
      },
      "source": [
        "li=[1,8,16,9,2]\n",
        "print(li)\n",
        "print(li[2])\n",
        "print(li[-3])\n",
        "print(li[2:])\n",
        "print(li[2:4])\n",
        "print(li[-3:-1])"
      ],
      "execution_count": 0,
      "outputs": [
        {
          "output_type": "stream",
          "text": [
            "[1, 8, 16, 9, 2]\n",
            "16\n",
            "16\n",
            "[16, 9, 2]\n",
            "[16, 9]\n",
            "[16, 9]\n"
          ],
          "name": "stdout"
        }
      ]
    },
    {
      "cell_type": "code",
      "metadata": {
        "id": "xPgt6oJhE5ub",
        "colab_type": "code",
        "colab": {}
      },
      "source": [
        ""
      ],
      "execution_count": 0,
      "outputs": []
    },
    {
      "cell_type": "code",
      "metadata": {
        "id": "QFqSCdwgGgSw",
        "colab_type": "code",
        "outputId": "80f49b2e-a56a-4062-f78f-25005eadd9c3",
        "colab": {
          "base_uri": "https://localhost:8080/",
          "height": 34
        }
      },
      "source": [
        "li=[\"gitam\",1234,1235,1236,\"hyd\"]\n",
        "print(li[0][2])"
      ],
      "execution_count": 0,
      "outputs": [
        {
          "output_type": "stream",
          "text": [
            "t\n"
          ],
          "name": "stdout"
        }
      ]
    },
    {
      "cell_type": "code",
      "metadata": {
        "id": "L0ltsmiAHZCZ",
        "colab_type": "code",
        "outputId": "2ba39142-b126-430f-fea3-3933e92f04bf",
        "colab": {
          "base_uri": "https://localhost:8080/",
          "height": 34
        }
      },
      "source": [
        "del li[2]\n",
        "print(li)"
      ],
      "execution_count": 0,
      "outputs": [
        {
          "output_type": "stream",
          "text": [
            "['gitam', 1234, 'hyd']\n"
          ],
          "name": "stdout"
        }
      ]
    },
    {
      "cell_type": "code",
      "metadata": {
        "id": "mKEU1WolHpBL",
        "colab_type": "code",
        "outputId": "aee855cb-baaf-456b-a329-f17409c21208",
        "colab": {
          "base_uri": "https://localhost:8080/",
          "height": 34
        }
      },
      "source": [
        "li[2]=234\n",
        "print(li)"
      ],
      "execution_count": 0,
      "outputs": [
        {
          "output_type": "stream",
          "text": [
            "['gitam', 1234, 234]\n"
          ],
          "name": "stdout"
        }
      ]
    },
    {
      "cell_type": "code",
      "metadata": {
        "id": "ia3uBHeEIHWw",
        "colab_type": "code",
        "outputId": "92c3129d-537b-4b62-d524-429c0978c2e2",
        "colab": {
          "base_uri": "https://localhost:8080/",
          "height": 102
        }
      },
      "source": [
        "li=[10,3,32,64,658,532,675,5635,63363653,5]\n",
        "print(max(li))\n",
        "print(min(li))\n",
        "print(sum(li))\n",
        "print(len(li))\n",
        "print(sum(li)//len(li))"
      ],
      "execution_count": 0,
      "outputs": [
        {
          "output_type": "stream",
          "text": [
            "63363653\n",
            "3\n",
            "63371267\n",
            "10\n",
            "6337126\n"
          ],
          "name": "stdout"
        }
      ]
    },
    {
      "cell_type": "code",
      "metadata": {
        "id": "mPBQmarcKmed",
        "colab_type": "code",
        "colab": {}
      },
      "source": [
        ""
      ],
      "execution_count": 0,
      "outputs": []
    },
    {
      "cell_type": "code",
      "metadata": {
        "id": "y4M3orNGKrVY",
        "colab_type": "code",
        "outputId": "bea5ff8b-d806-41a9-bda0-6c5b63b4e4e1",
        "colab": {
          "base_uri": "https://localhost:8080/",
          "height": 68
        }
      },
      "source": [
        "li=[2,56,5,3,7,5,8]\n",
        "li.append(24)\n",
        "li.insert(7,10)\n",
        "print(li.count(5))\n",
        "print(li.index(7))\n",
        "print(li)"
      ],
      "execution_count": 0,
      "outputs": [
        {
          "output_type": "stream",
          "text": [
            "2\n",
            "4\n",
            "[2, 56, 5, 3, 7, 5, 8, 10, 24]\n"
          ],
          "name": "stdout"
        }
      ]
    },
    {
      "cell_type": "code",
      "metadata": {
        "id": "ltdPvFHEKs3b",
        "colab_type": "code",
        "outputId": "636faae4-170b-4e0d-d91d-38cd16c1be08",
        "colab": {
          "base_uri": "https://localhost:8080/",
          "height": 34
        }
      },
      "source": [
        "li=[3,67,54,8,21,6,4,65,3,5]\n",
        "li.sort()\n",
        "li.pop(1)\n",
        "print(li)"
      ],
      "execution_count": 0,
      "outputs": [
        {
          "output_type": "stream",
          "text": [
            "[3, 4, 5, 6, 8, 21, 54, 65, 67]\n"
          ],
          "name": "stdout"
        }
      ]
    },
    {
      "cell_type": "code",
      "metadata": {
        "id": "GIEu-2-XL92u",
        "colab_type": "code",
        "outputId": "5dd8564d-0878-4e02-a172-2c24f213d125",
        "colab": {
          "base_uri": "https://localhost:8080/",
          "height": 51
        }
      },
      "source": [
        "li=[1,2,3]\n",
        "li2=[4,5,6]\n",
        "li.extend(li2)\n",
        "print(li.reverse())\n",
        "print(li)"
      ],
      "execution_count": 0,
      "outputs": [
        {
          "output_type": "stream",
          "text": [
            "None\n",
            "[6, 5, 4, 3, 2, 1]\n"
          ],
          "name": "stdout"
        }
      ]
    },
    {
      "cell_type": "code",
      "metadata": {
        "id": "9ZamnnA6OWUq",
        "colab_type": "code",
        "colab": {}
      },
      "source": [
        "def largenumber(li):\n",
        "  li.sort()\n",
        "  return li[-1]\n",
        "  def genericlarge(li,n):\n",
        "    li.sort()\n",
        "    return li[-n]\n",
        "    li=[19,1,25,45,76]\n",
        "    print(largenumber(li))\n",
        "    print(genericlarge(li,3))"
      ],
      "execution_count": 0,
      "outputs": []
    },
    {
      "cell_type": "code",
      "metadata": {
        "id": "aLSkbfptRJb5",
        "colab_type": "code",
        "colab": {}
      },
      "source": [
        ""
      ],
      "execution_count": 0,
      "outputs": []
    },
    {
      "cell_type": "markdown",
      "metadata": {
        "id": "M1xJ4wv8Sm5b",
        "colab_type": "text"
      },
      "source": [
        "# tuple\n",
        "\n",
        "*   it is one common data structure in python . The items oftuple are seperated by comm and enclosed by paranthesis\n",
        "\n",
        "example: t1=(1,2,3,4)\n",
        "\n",
        "\n",
        "# list and tuple\n",
        "* list are mutable-can be changed\n",
        "* list are used to modify.add.delete.update\n",
        "* tuple are immutable-cannot be changed\n",
        "* tuple used to access data only\n",
        "\n",
        "\n"
      ]
    },
    {
      "cell_type": "code",
      "metadata": {
        "id": "TgsKS3DzTKow",
        "colab_type": "code",
        "colab": {}
      },
      "source": [
        ""
      ],
      "execution_count": 0,
      "outputs": []
    },
    {
      "cell_type": "code",
      "metadata": {
        "id": "HXg_1z5HT5WB",
        "colab_type": "code",
        "outputId": "27fc120a-1e9c-4814-e1f6-0a8242cd1b88",
        "colab": {
          "base_uri": "https://localhost:8080/",
          "height": 34
        }
      },
      "source": [
        "t1=(1,2,3,4)\n",
        "t1"
      ],
      "execution_count": 0,
      "outputs": [
        {
          "output_type": "execute_result",
          "data": {
            "text/plain": [
              "(1, 2, 3, 4)"
            ]
          },
          "metadata": {
            "tags": []
          },
          "execution_count": 48
        }
      ]
    },
    {
      "cell_type": "code",
      "metadata": {
        "id": "JSMFoTIbT_K2",
        "colab_type": "code",
        "colab": {}
      },
      "source": [
        ""
      ],
      "execution_count": 0,
      "outputs": []
    },
    {
      "cell_type": "markdown",
      "metadata": {
        "id": "ng82xa4eUPfa",
        "colab_type": "text"
      },
      "source": [
        "# dictionaries\n",
        "* it works on concept of set unique data\n",
        "* Dictionary contains key and values\n",
        "* each key value is seperated by comma\n",
        "* each key value is seperated from its value with colon(:)"
      ]
    },
    {
      "cell_type": "code",
      "metadata": {
        "id": "z3iyw-_wVeym",
        "colab_type": "code",
        "colab": {}
      },
      "source": [
        ""
      ],
      "execution_count": 0,
      "outputs": []
    },
    {
      "cell_type": "code",
      "metadata": {
        "id": "WJgFwrE9VgUC",
        "colab_type": "code",
        "outputId": "e11eb1c7-0ed8-47bf-e71c-cebfeb264167",
        "colab": {
          "base_uri": "https://localhost:8080/",
          "height": 34
        }
      },
      "source": [
        "d1={\"name\":\"gitam\",\"email\":\"gitam@in\",\"address\":\"hyerabad\"}\n",
        "d1['name']='maddie'\n",
        "d1"
      ],
      "execution_count": 60,
      "outputs": [
        {
          "output_type": "execute_result",
          "data": {
            "text/plain": [
              "{'address': 'hyerabad', 'email': 'gitam@in', 'name': 'maddie'}"
            ]
          },
          "metadata": {
            "tags": []
          },
          "execution_count": 60
        }
      ]
    },
    {
      "cell_type": "code",
      "metadata": {
        "id": "Otl6hsTfV9Dc",
        "colab_type": "code",
        "outputId": "812c50ff-5466-45ac-c497-d23ec4d717e0",
        "colab": {
          "base_uri": "https://localhost:8080/",
          "height": 34
        }
      },
      "source": [
        "d1['rollnumber']='221710411024'\n",
        "print (d1)"
      ],
      "execution_count": 61,
      "outputs": [
        {
          "output_type": "stream",
          "text": [
            "{'name': 'maddie', 'email': 'gitam@in', 'address': 'hyerabad', 'rollnumber': '221710411024'}\n"
          ],
          "name": "stdout"
        }
      ]
    },
    {
      "cell_type": "code",
      "metadata": {
        "id": "wUCVIZgvYfMy",
        "colab_type": "code",
        "outputId": "e898b329-5753-4107-d547-ddcba97b9fa5",
        "colab": {
          "base_uri": "https://localhost:8080/",
          "height": 34
        }
      },
      "source": [
        "del d1['email']\n",
        "print(d1)"
      ],
      "execution_count": 62,
      "outputs": [
        {
          "output_type": "stream",
          "text": [
            "{'name': 'maddie', 'address': 'hyerabad', 'rollnumber': '221710411024'}\n"
          ],
          "name": "stdout"
        }
      ]
    },
    {
      "cell_type": "code",
      "metadata": {
        "id": "lT70uC6wYlqy",
        "colab_type": "code",
        "colab": {}
      },
      "source": [
        ""
      ],
      "execution_count": 0,
      "outputs": []
    },
    {
      "cell_type": "markdown",
      "metadata": {
        "id": "DkuRp2CPZbaz",
        "colab_type": "text"
      },
      "source": [
        "## strings\n"
      ]
    },
    {
      "cell_type": "code",
      "metadata": {
        "id": "x5NL_WAYZqT8",
        "colab_type": "code",
        "colab": {}
      },
      "source": [
        ""
      ],
      "execution_count": 0,
      "outputs": []
    },
    {
      "cell_type": "code",
      "metadata": {
        "id": "TspVclRzZrCx",
        "colab_type": "code",
        "colab": {
          "base_uri": "https://localhost:8080/",
          "height": 51
        },
        "outputId": "7e65a0dd-ba64-4139-e230-99605bf66515"
      },
      "source": [
        "s1=\"python\"\n",
        "print(s1)\n",
        "print(type(s1))\n"
      ],
      "execution_count": 63,
      "outputs": [
        {
          "output_type": "stream",
          "text": [
            "python\n",
            "<class 'str'>\n"
          ],
          "name": "stdout"
        }
      ]
    },
    {
      "cell_type": "code",
      "metadata": {
        "id": "fYFmzsRmZ2sv",
        "colab_type": "code",
        "colab": {
          "base_uri": "https://localhost:8080/",
          "height": 119
        },
        "outputId": "8cc9e1f1-8346-45ae-a795-f9e0a7077e99"
      },
      "source": [
        "s1=\"python\"\n",
        "print(s1[4])\n",
        "print(len(s1)-2)\n",
        "print(s1[len(s1)-2])\n",
        "print(s1[1:-1])\n",
        "print(s1[len(s1)//2])\n",
        "print(s1[::2])"
      ],
      "execution_count": 73,
      "outputs": [
        {
          "output_type": "stream",
          "text": [
            "o\n",
            "4\n",
            "o\n",
            "ytho\n",
            "h\n",
            "pto\n"
          ],
          "name": "stdout"
        }
      ]
    },
    {
      "cell_type": "code",
      "metadata": {
        "id": "6RX8z-z5Z80C",
        "colab_type": "code",
        "colab": {}
      },
      "source": [
        ""
      ],
      "execution_count": 0,
      "outputs": []
    },
    {
      "cell_type": "markdown",
      "metadata": {
        "id": "xZgrkuSlcWGE",
        "colab_type": "text"
      },
      "source": [
        "# string buitl-in method\n",
        "* upper\n",
        "* lower\n",
        "* isupper\n",
        "* islower\n",
        "* istitke\n",
        "* isnumeric\n",
        "* isssalpha\n",
        "* isspace\n"
      ]
    },
    {
      "cell_type": "code",
      "metadata": {
        "id": "g-Q-a4wgc7S9",
        "colab_type": "code",
        "colab": {
          "base_uri": "https://localhost:8080/",
          "height": 136
        },
        "outputId": "abfe3b66-c338-4720-b2b6-6c84d0e4410c"
      },
      "source": [
        "s1='python'\n",
        "print(s1.upper())\n",
        "print(s1.lower())\n",
        "print(s1.isupper())\n",
        "print(s1.islower())\n",
        "print(s1.istitle())\n",
        "print(s1.isnumeric())\n",
        "print(s1.isalpha())"
      ],
      "execution_count": 77,
      "outputs": [
        {
          "output_type": "stream",
          "text": [
            "PYTHON\n",
            "python\n",
            "False\n",
            "True\n",
            "False\n",
            "False\n",
            "True\n"
          ],
          "name": "stdout"
        }
      ]
    },
    {
      "cell_type": "code",
      "metadata": {
        "id": "IvGWFC6deTg4",
        "colab_type": "code",
        "colab": {
          "base_uri": "https://localhost:8080/",
          "height": 34
        },
        "outputId": "16b2f266-37d9-4f2e-f85b-c4c683a34393"
      },
      "source": [
        "s1=' '\n",
        "print(s1.isspace())"
      ],
      "execution_count": 78,
      "outputs": [
        {
          "output_type": "stream",
          "text": [
            "True\n"
          ],
          "name": "stdout"
        }
      ]
    },
    {
      "cell_type": "code",
      "metadata": {
        "id": "entbpw3Fex39",
        "colab_type": "code",
        "colab": {
          "base_uri": "https://localhost:8080/",
          "height": 34
        },
        "outputId": "f9132936-ffb1-4fa0-c627-f8c45eb6d826"
      },
      "source": [
        "s1='josh'\n",
        "print(\"$\".join(s1))"
      ],
      "execution_count": 81,
      "outputs": [
        {
          "output_type": "stream",
          "text": [
            "j$o$s$h\n"
          ],
          "name": "stdout"
        }
      ]
    },
    {
      "cell_type": "code",
      "metadata": {
        "id": "79_wVzpYfCy8",
        "colab_type": "code",
        "colab": {
          "base_uri": "https://localhost:8080/",
          "height": 34
        },
        "outputId": "74d68856-80b6-4973-ed01-8bb47ca4a8ee"
      },
      "source": [
        "s1=\" aniketh is rich\"\n",
        "print(s1.split())"
      ],
      "execution_count": 82,
      "outputs": [
        {
          "output_type": "stream",
          "text": [
            "['aniketh', 'is', 'rich']\n"
          ],
          "name": "stdout"
        }
      ]
    },
    {
      "cell_type": "code",
      "metadata": {
        "id": "WhTtXl5qfyqf",
        "colab_type": "code",
        "colab": {
          "base_uri": "https://localhost:8080/",
          "height": 34
        },
        "outputId": "f418b756-2c5c-41f4-cf0b-3a2bf2f11721"
      },
      "source": [
        "s1=\" aniketh is rich\"\n",
        "print(s1.replace(\"rich\", \"a nerd\"))"
      ],
      "execution_count": 85,
      "outputs": [
        {
          "output_type": "stream",
          "text": [
            " aniketh is a nerd\n"
          ],
          "name": "stdout"
        }
      ]
    },
    {
      "cell_type": "code",
      "metadata": {
        "id": "0qmexBYSgM_W",
        "colab_type": "code",
        "colab": {}
      },
      "source": [
        ""
      ],
      "execution_count": 0,
      "outputs": []
    }
  ]
}